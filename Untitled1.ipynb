{
 "cells": [
  {
   "cell_type": "code",
   "execution_count": 12,
   "id": "7ff1e5ad-b457-4566-9e59-e0ef59951c1e",
   "metadata": {},
   "outputs": [
    {
     "name": "stdout",
     "output_type": "stream",
     "text": [
      "just right\n"
     ]
    }
   ],
   "source": [
    "secret = 7\n",
    "guess = 7\n",
    "if guess < secret:\n",
    "    print(\"too low\")\n",
    "if guess > secret:\n",
    "    print(\"too high\")\n",
    "if guess == secret:\n",
    "    print(\"just right\")\n"
   ]
  },
  {
   "cell_type": "code",
   "execution_count": 13,
   "id": "69740a34-5904-4715-bdb1-8deae8d4fb8f",
   "metadata": {},
   "outputs": [
    {
     "name": "stdout",
     "output_type": "stream",
     "text": [
      "pea is small and green.\n"
     ]
    }
   ],
   "source": [
    "small = True\n",
    "green = True\n",
    "fruits = {\n",
    "    \"cherry\": {'small':True, \"green\":False},\n",
    "    \"pea\": {\"small\":True, \"green\":True},\n",
    "    \"watermelon\": {\"small\":False, \"green\":True},\n",
    "    \"pumpkin\": {\"small\":False, \"green\":False}\n",
    "}\n",
    "for fruit, properties in fruits.items():\n",
    "    if properties[\"small\"] == small and properties[\"green\"] == green:\n",
    "        print(f\"{fruit} is {'small' if small else 'not small'} and {'green' if green else 'not green'}.\")\n",
    "    \n"
   ]
  },
  {
   "cell_type": "code",
   "execution_count": 19,
   "id": "2a3adb49-88a4-495f-a226-fde364dd724c",
   "metadata": {},
   "outputs": [
    {
     "name": "stdout",
     "output_type": "stream",
     "text": [
      "3\n",
      "2\n",
      "1\n",
      "0\n"
     ]
    }
   ],
   "source": [
    "i=0\n",
    "for i in [3,2,1,0]:\n",
    "    print(i)\n",
    "    i=i+1"
   ]
  },
  {
   "cell_type": "code",
   "execution_count": 25,
   "id": "d20f1034-3da4-4b17-a4c1-7a548cc7e8d3",
   "metadata": {},
   "outputs": [
    {
     "name": "stdout",
     "output_type": "stream",
     "text": [
      "too low\n",
      "too low\n",
      "too low\n",
      "too low\n",
      "too low\n",
      "too low\n",
      "found it\n",
      "oops\n"
     ]
    }
   ],
   "source": [
    "guess=7\n",
    "number=1\n",
    "while True:\n",
    "    if number<guess:\n",
    "        print(\"too low\")\n",
    "    elif number==guess:\n",
    "        print(\"found it\")\n",
    "    else:\n",
    "        print(\"oops\")\n",
    "        break\n",
    "    number+=1"
   ]
  },
  {
   "cell_type": "code",
   "execution_count": 26,
   "id": "17dae11d-b870-4bcb-91e8-188a6ff8b2e0",
   "metadata": {},
   "outputs": [
    {
     "ename": "SyntaxError",
     "evalue": "expected ':' (1932023090.py, line 5)",
     "output_type": "error",
     "traceback": [
      "\u001b[1;36m  Cell \u001b[1;32mIn[26], line 5\u001b[1;36m\u001b[0m\n\u001b[1;33m    elif number == guess\u001b[0m\n\u001b[1;37m                        ^\u001b[0m\n\u001b[1;31mSyntaxError\u001b[0m\u001b[1;31m:\u001b[0m expected ':'\n"
     ]
    }
   ],
   "source": [
    "guess=5\n",
    "for number in range(10):\n",
    "    if number<guess:\n",
    "        print(\"too low\")\n",
    "    elif number == guess\n",
    "        print(\"fount it\")\n",
    "        break\n",
    "else:\n",
    "    print(\"oops\")\n",
    "    break\n"
   ]
  },
  {
   "cell_type": "code",
   "execution_count": null,
   "id": "734b2918-c39f-407f-a0ac-571495337d27",
   "metadata": {},
   "outputs": [],
   "source": []
  }
 ],
 "metadata": {
  "kernelspec": {
   "display_name": "Python 3 (ipykernel)",
   "language": "python",
   "name": "python3"
  },
  "language_info": {
   "codemirror_mode": {
    "name": "ipython",
    "version": 3
   },
   "file_extension": ".py",
   "mimetype": "text/x-python",
   "name": "python",
   "nbconvert_exporter": "python",
   "pygments_lexer": "ipython3",
   "version": "3.11.7"
  }
 },
 "nbformat": 4,
 "nbformat_minor": 5
}
